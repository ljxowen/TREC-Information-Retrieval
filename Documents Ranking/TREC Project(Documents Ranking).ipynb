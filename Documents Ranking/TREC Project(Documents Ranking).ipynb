{
 "cells": [
  {
   "cell_type": "markdown",
   "id": "c7be1e8c",
   "metadata": {},
   "source": [
    "# TREC 2021 Deep Learning Track (Information Retrieval)<br>Task1<br>Documents Ranking\n",
    "Auther: Jingxuan Liu<br>\n",
    "Id: 173098550"
   ]
  },
  {
   "cell_type": "code",
   "execution_count": 2,
   "id": "b248f0bb",
   "metadata": {},
   "outputs": [],
   "source": [
    "import numpy as np\n",
    "import pandas as pd\n",
    "import tensorflow as tf\n",
    "from tensorflow.keras.preprocessing import text, sequence\n",
    "from tensorflow.keras.models import Sequential\n",
    "from tensorflow.keras.layers import Dense, Dropout, Activation\n",
    "from tensorflow.keras.layers import Embedding\n",
    "from tensorflow.keras.layers import Conv1D, GlobalMaxPooling1D, MaxPooling1D\n",
    "from sklearn.model_selection import train_test_split\n",
    "import json\n",
    "pd.options.mode.chained_assignment = None"
   ]
  },
  {
   "cell_type": "code",
   "execution_count": 2,
   "id": "40e1499a",
   "metadata": {},
   "outputs": [
    {
     "name": "stdout",
     "output_type": "stream",
     "text": [
      "dict_keys(['url', 'title', 'headings', 'body', 'docid'])\n"
     ]
    }
   ],
   "source": [
    "def get_document(document_id):\n",
    "    (string1, string2, bundlenum, position) = document_id.split('_')\n",
    "    assert string1 == 'msmarco' and string2 == 'doc'\n",
    "\n",
    "    with open(f'./msmarco_v2_doc/msmarco_doc_{bundlenum}', 'rt', encoding='utf8') as in_fh:\n",
    "        in_fh.seek(int(position))\n",
    "        json_string = in_fh.readline()\n",
    "        document = json.loads(json_string)\n",
    "        assert document['docid'] == document_id\n",
    "        return document\n",
    "\n",
    "document = get_document('msmarco_doc_31_726131')\n",
    "print(document.keys())"
   ]
  },
  {
   "cell_type": "markdown",
   "id": "a9227881",
   "metadata": {},
   "source": [
    "# Prepare Training Data"
   ]
  },
  {
   "cell_type": "code",
   "execution_count": 3,
   "id": "cb21e9b0",
   "metadata": {},
   "outputs": [],
   "source": [
    "train_qrels_df = pd.read_csv('./train/docv2_train_qrels.tsv', names = ['0','file','1'], header = None,delimiter = \"\\t\")\n",
    "train_queries_df = pd.read_csv('./train/docv2_train_queries.tsv', delimiter = \"\\t\" , header=None, names = ['id','topic'])\n",
    "train_top100_df = pd.read_csv('./train/docv2_train_top100.txt', delimiter = \" \", names = ['id','used','file','rank','score','username'])"
   ]
  },
  {
   "cell_type": "markdown",
   "id": "25227fc5",
   "metadata": {},
   "source": [
    "Dictionary for Document and Title"
   ]
  },
  {
   "cell_type": "code",
   "execution_count": 4,
   "id": "9e0c8a55",
   "metadata": {
    "scrolled": true
   },
   "outputs": [
    {
     "name": "stdout",
     "output_type": "stream",
     "text": [
      "Found 267649 doc number.\n"
     ]
    },
    {
     "data": {
      "text/plain": [
       "{'msmarco_doc_10_1691063043': 'French and the francophonie in Canada',\n",
       " 'msmarco_doc_05_72507775': 'Westminster, California (CA 92683) profile: population, maps, real estate, averages, homes, statistics, relocation, travel, jobs, hospitals, schools, crime, moving, houses, news, sex offenders',\n",
       " 'msmarco_doc_19_673141443': 'Westminster, California - Wikipedia',\n",
       " 'msmarco_doc_19_673231526': 'Westminster, Massachusetts - Wikipedia',\n",
       " 'msmarco_doc_19_673209131': 'Westminster, Maryland - Wikipedia'}"
      ]
     },
     "execution_count": 4,
     "metadata": {},
     "output_type": "execute_result"
    }
   ],
   "source": [
    "docs = train_qrels_df['file'].values\n",
    "documents_index = dict()\n",
    "for doc in docs:\n",
    "    document = get_document(doc)\n",
    "    if document['title'] != \"\":\n",
    "        documents_index[doc] = document['title']\n",
    "print(f'Found {len(documents_index)} doc number.')\n",
    "dict(list(documents_index.items())[0:5])"
   ]
  },
  {
   "cell_type": "markdown",
   "id": "b595c657",
   "metadata": {},
   "source": [
    "Dictionary for Id and Topic"
   ]
  },
  {
   "cell_type": "code",
   "execution_count": 5,
   "id": "846d6876",
   "metadata": {},
   "outputs": [
    {
     "name": "stdout",
     "output_type": "stream",
     "text": [
      "Found 322196 doc number.\n"
     ]
    },
    {
     "data": {
      "text/plain": [
       "{121352: 'define extreme',\n",
       " 510633: 'tattoo fixers how much does it cost',\n",
       " 674172: 'what is a bank transit number',\n",
       " 570009: 'what are the four major groups of elements',\n",
       " 54528: 'blood clots in urine after menopause',\n",
       " 738368: 'what is delta in2ition',\n",
       " 507001: 'symptoms of an enlarged heart in dogs',\n",
       " 466926: 'number of times congress voted to repeal aca',\n",
       " 224811: 'how does a firefly light up',\n",
       " 918533: 'what was introduced to the human diet in what year'}"
      ]
     },
     "execution_count": 5,
     "metadata": {},
     "output_type": "execute_result"
    }
   ],
   "source": [
    "topics_index = train_queries_df.set_index('id').to_dict()['topic']\n",
    "print(f'Found {len(topics_index)} doc number.')\n",
    "dict(list(topics_index.items())[0:10])"
   ]
  },
  {
   "cell_type": "code",
   "execution_count": 6,
   "id": "ccc61f75",
   "metadata": {},
   "outputs": [
    {
     "data": {
      "text/html": [
       "<div>\n",
       "<style scoped>\n",
       "    .dataframe tbody tr th:only-of-type {\n",
       "        vertical-align: middle;\n",
       "    }\n",
       "\n",
       "    .dataframe tbody tr th {\n",
       "        vertical-align: top;\n",
       "    }\n",
       "\n",
       "    .dataframe thead th {\n",
       "        text-align: right;\n",
       "    }\n",
       "</style>\n",
       "<table border=\"1\" class=\"dataframe\">\n",
       "  <thead>\n",
       "    <tr style=\"text-align: right;\">\n",
       "      <th></th>\n",
       "      <th>id</th>\n",
       "      <th>used</th>\n",
       "      <th>file</th>\n",
       "      <th>rank</th>\n",
       "      <th>score</th>\n",
       "      <th>username</th>\n",
       "      <th>x_train</th>\n",
       "    </tr>\n",
       "  </thead>\n",
       "  <tbody>\n",
       "    <tr>\n",
       "      <th>26</th>\n",
       "      <td>Another name for the primary visual cortex is</td>\n",
       "      <td>Q0</td>\n",
       "      <td>Visual cortex - Wikipedia</td>\n",
       "      <td>27</td>\n",
       "      <td>11.718999</td>\n",
       "      <td>Anserini</td>\n",
       "      <td>Another name for the primary visual cortex is...</td>\n",
       "    </tr>\n",
       "    <tr>\n",
       "      <th>31</th>\n",
       "      <td>Another name for the primary visual cortex is</td>\n",
       "      <td>Q0</td>\n",
       "      <td>What Are the Functions of the Occipital Lobe? ...</td>\n",
       "      <td>32</td>\n",
       "      <td>11.654000</td>\n",
       "      <td>Anserini</td>\n",
       "      <td>Another name for the primary visual cortex is...</td>\n",
       "    </tr>\n",
       "    <tr>\n",
       "      <th>33</th>\n",
       "      <td>Another name for the primary visual cortex is</td>\n",
       "      <td>Q0</td>\n",
       "      <td>Occipital lobe - Wikipedia</td>\n",
       "      <td>34</td>\n",
       "      <td>11.637600</td>\n",
       "      <td>Anserini</td>\n",
       "      <td>Another name for the primary visual cortex is...</td>\n",
       "    </tr>\n",
       "    <tr>\n",
       "      <th>54</th>\n",
       "      <td>Another name for the primary visual cortex is</td>\n",
       "      <td>Q0</td>\n",
       "      <td>Motor cortex - Wikipedia</td>\n",
       "      <td>55</td>\n",
       "      <td>11.456200</td>\n",
       "      <td>Anserini</td>\n",
       "      <td>Another name for the primary visual cortex is...</td>\n",
       "    </tr>\n",
       "    <tr>\n",
       "      <th>56</th>\n",
       "      <td>Another name for the primary visual cortex is</td>\n",
       "      <td>Q0</td>\n",
       "      <td>Motor cortex - Wikipedia</td>\n",
       "      <td>57</td>\n",
       "      <td>11.455900</td>\n",
       "      <td>Anserini</td>\n",
       "      <td>Another name for the primary visual cortex is...</td>\n",
       "    </tr>\n",
       "  </tbody>\n",
       "</table>\n",
       "</div>"
      ],
      "text/plain": [
       "                                                 id used  \\\n",
       "26   Another name for the primary visual cortex is    Q0   \n",
       "31   Another name for the primary visual cortex is    Q0   \n",
       "33   Another name for the primary visual cortex is    Q0   \n",
       "54   Another name for the primary visual cortex is    Q0   \n",
       "56   Another name for the primary visual cortex is    Q0   \n",
       "\n",
       "                                                 file  rank      score  \\\n",
       "26                          Visual cortex - Wikipedia    27  11.718999   \n",
       "31  What Are the Functions of the Occipital Lobe? ...    32  11.654000   \n",
       "33                         Occipital lobe - Wikipedia    34  11.637600   \n",
       "54                           Motor cortex - Wikipedia    55  11.456200   \n",
       "56                           Motor cortex - Wikipedia    57  11.455900   \n",
       "\n",
       "    username                                            x_train  \n",
       "26  Anserini   Another name for the primary visual cortex is...  \n",
       "31  Anserini   Another name for the primary visual cortex is...  \n",
       "33  Anserini   Another name for the primary visual cortex is...  \n",
       "54  Anserini   Another name for the primary visual cortex is...  \n",
       "56  Anserini   Another name for the primary visual cortex is...  "
      ]
     },
     "execution_count": 6,
     "metadata": {},
     "output_type": "execute_result"
    }
   ],
   "source": [
    "train_top100_df['id'] = train_top100_df.id.map(topics_index)\n",
    "train_top100_df['file'] = train_top100_df.file.map(documents_index)\n",
    "train_top100_df = train_top100_df.dropna()\n",
    "train_top100_df['x_train'] = train_top100_df['id']+\" \"+train_top100_df['file']\n",
    "train_top100_df.head(5)"
   ]
  },
  {
   "cell_type": "markdown",
   "id": "ffffb95d",
   "metadata": {},
   "source": [
    "# Tokenize and Pad Data for Training Data"
   ]
  },
  {
   "cell_type": "code",
   "execution_count": 7,
   "id": "21ab8d7c",
   "metadata": {},
   "outputs": [
    {
     "data": {
      "text/plain": [
       "array([[    0,     0,     0, ...,  2082,  2894,     9],\n",
       "       [    0,     0,  1037, ...,  4241,    40,    99],\n",
       "       [    0,     0,     0, ...,  9828,  4241,     9],\n",
       "       ...,\n",
       "       [    0,     0,     0, ..., 11625,  1999,     9],\n",
       "       [   38,     3,  7035, ...,   762, 13080, 18735],\n",
       "       [    0,     1,    38, ...,    76,   269,  1243]], dtype=int32)"
      ]
     },
     "execution_count": 7,
     "metadata": {},
     "output_type": "execute_result"
    }
   ],
   "source": [
    "max_feature = 20000\n",
    "max_text_length = 20\n",
    "\n",
    "x = train_top100_df['x_train'].values\n",
    "y = train_top100_df['score'].values\n",
    "\n",
    "x_tokenizer = text.Tokenizer(max_feature)\n",
    "x_tokenizer.fit_on_texts(list(x))\n",
    "x_tokenized = x_tokenizer.texts_to_sequences(x)\n",
    "x_train_val = sequence.pad_sequences(x_tokenized, maxlen = max_text_length)\n",
    "x_train_val"
   ]
  },
  {
   "cell_type": "markdown",
   "id": "9b0446e8",
   "metadata": {},
   "source": [
    "# Prepare Embedding Matrix using Pre-trained GloVe Embeddings Data"
   ]
  },
  {
   "cell_type": "code",
   "execution_count": 8,
   "id": "9f7ae0bf",
   "metadata": {},
   "outputs": [
    {
     "name": "stdout",
     "output_type": "stream",
     "text": [
      "Found 400000 word vectors.\n"
     ]
    }
   ],
   "source": [
    "#!wget http://nlp.stanford.edu/data/glove.6B.zip\n",
    "#!unzip -q glove.6B.zip\n",
    "\n",
    "embedding_dim = 100\n",
    "embeddings_index = dict()\n",
    "f = open('glove.6B.100d.txt')\n",
    "for line in f:\n",
    "    values = line.split()\n",
    "    word = values[0]\n",
    "    coefs = np.asarray(values[1:], dtype='float32')\n",
    "    embeddings_index[word] = coefs\n",
    "f.close()\n",
    "print(f'Found {len(embeddings_index)} word vectors.')"
   ]
  },
  {
   "cell_type": "code",
   "execution_count": 9,
   "id": "0de97b96",
   "metadata": {},
   "outputs": [
    {
     "data": {
      "text/plain": [
       "array([[ 0.        ,  0.        ,  0.        , ...,  0.        ,\n",
       "         0.        ,  0.        ],\n",
       "       [-0.15180001,  0.38409001,  0.89340001, ..., -0.27123001,\n",
       "         0.22157   ,  0.92111999],\n",
       "       [-0.54263997,  0.41475999,  1.03219998, ..., -1.29690003,\n",
       "         0.76217002,  0.46349001],\n",
       "       ...,\n",
       "       [ 0.85588002,  0.44924   ,  0.40204   , ..., -0.14808001,\n",
       "        -0.054877  , -0.19088   ],\n",
       "       [-0.14505   ,  0.11744   ,  0.018758  , ...,  0.2252    ,\n",
       "        -0.14031   , -0.078794  ],\n",
       "       [ 0.61238998,  0.37639001,  0.16402   , ..., -0.33844   ,\n",
       "        -0.29087001,  0.057413  ]])"
      ]
     },
     "execution_count": 9,
     "metadata": {},
     "output_type": "execute_result"
    }
   ],
   "source": [
    "embedding_matrix = np.zeros((max_feature, embedding_dim))\n",
    "for word, index in x_tokenizer.word_index.items():\n",
    "    if index > max_feature - 1:\n",
    "        break\n",
    "    else:\n",
    "        embedding_vector = embeddings_index.get(word)\n",
    "        if embedding_vector is not None:\n",
    "            embedding_matrix[index] = embedding_vector\n",
    "embedding_matrix"
   ]
  },
  {
   "cell_type": "markdown",
   "id": "6863541f",
   "metadata": {},
   "source": [
    "# Build the Model"
   ]
  },
  {
   "cell_type": "markdown",
   "id": "415c8353",
   "metadata": {},
   "source": [
    "Add Embedding Layer"
   ]
  },
  {
   "cell_type": "code",
   "execution_count": 10,
   "id": "5c987708",
   "metadata": {},
   "outputs": [],
   "source": [
    "model = Sequential()\n",
    "model.add(Embedding(max_feature,\n",
    "                    embedding_dim,\n",
    "                    embeddings_initializer=tf.keras.initializers.Constant(embedding_matrix),\n",
    "                    trainable=False))\n",
    "model.add(Dropout(0.2))"
   ]
  },
  {
   "cell_type": "markdown",
   "id": "cb9fdad3",
   "metadata": {},
   "source": [
    "Build Rest Model"
   ]
  },
  {
   "cell_type": "code",
   "execution_count": 11,
   "id": "87f92b9f",
   "metadata": {},
   "outputs": [
    {
     "name": "stdout",
     "output_type": "stream",
     "text": [
      "Model: \"sequential\"\n",
      "_________________________________________________________________\n",
      "Layer (type)                 Output Shape              Param #   \n",
      "=================================================================\n",
      "embedding (Embedding)        (None, None, 100)         2000000   \n",
      "_________________________________________________________________\n",
      "dropout (Dropout)            (None, None, 100)         0         \n",
      "_________________________________________________________________\n",
      "conv1d (Conv1D)              (None, None, 250)         75250     \n",
      "_________________________________________________________________\n",
      "max_pooling1d (MaxPooling1D) (None, None, 250)         0         \n",
      "_________________________________________________________________\n",
      "conv1d_1 (Conv1D)            (None, None, 250)         312750    \n",
      "_________________________________________________________________\n",
      "global_max_pooling1d (Global (None, 250)               0         \n",
      "_________________________________________________________________\n",
      "dense (Dense)                (None, 250)               62750     \n",
      "_________________________________________________________________\n",
      "dropout_1 (Dropout)          (None, 250)               0         \n",
      "_________________________________________________________________\n",
      "dense_1 (Dense)              (None, 1)                 251       \n",
      "=================================================================\n",
      "Total params: 2,451,001\n",
      "Trainable params: 451,001\n",
      "Non-trainable params: 2,000,000\n",
      "_________________________________________________________________\n"
     ]
    }
   ],
   "source": [
    "filters = 250\n",
    "kernel_size = 3\n",
    "hidden_dims = 250\n",
    "\n",
    "model.add(Conv1D(filters,\n",
    "                 kernel_size,\n",
    "                 padding= 'valid'))\n",
    "model.add(MaxPooling1D())\n",
    "model.add(Conv1D(filters,\n",
    "                 5,\n",
    "                 padding = 'valid',\n",
    "                 activation = 'relu'))\n",
    "model.add(GlobalMaxPooling1D())\n",
    "model.add(Dense(hidden_dims, activation = 'relu'))\n",
    "model.add(Dropout(0.2))\n",
    "model.add(Dense(1, activation = 'relu'))\n",
    "model.summary()"
   ]
  },
  {
   "cell_type": "code",
   "execution_count": 12,
   "id": "f7570bf1",
   "metadata": {},
   "outputs": [],
   "source": [
    "model.compile(loss='mean_squared_error', optimizer='adam')"
   ]
  },
  {
   "cell_type": "markdown",
   "id": "d30e2249",
   "metadata": {},
   "source": [
    "# Trian the Model"
   ]
  },
  {
   "cell_type": "code",
   "execution_count": 13,
   "id": "f3d84e73",
   "metadata": {},
   "outputs": [],
   "source": [
    "x_train, x_val, y_train, y_val = train_test_split(x_train_val, y, \n",
    "                                                 test_size = 0.15, random_state = 1)"
   ]
  },
  {
   "cell_type": "code",
   "execution_count": 14,
   "id": "6a9323e8",
   "metadata": {},
   "outputs": [
    {
     "name": "stdout",
     "output_type": "stream",
     "text": [
      "Epoch 1/10\n",
      "36916/36916 [==============================] - 185s 5ms/step - loss: 8.4429 - val_loss: 7.4058\n",
      "Epoch 2/10\n",
      "36916/36916 [==============================] - 190s 5ms/step - loss: 7.1149 - val_loss: 6.4973\n",
      "Epoch 3/10\n",
      "36916/36916 [==============================] - 219s 6ms/step - loss: 6.7526 - val_loss: 6.5247\n",
      "Epoch 4/10\n",
      "36916/36916 [==============================] - 234s 6ms/step - loss: 6.4529 - val_loss: 6.0008\n",
      "Epoch 5/10\n",
      "36916/36916 [==============================] - 228s 6ms/step - loss: 6.2993 - val_loss: 5.8188\n",
      "Epoch 6/10\n",
      "36916/36916 [==============================] - 233s 6ms/step - loss: 6.1738 - val_loss: 5.8334\n",
      "Epoch 7/10\n",
      "36916/36916 [==============================] - 235s 6ms/step - loss: 6.0732 - val_loss: 6.1077\n",
      "Epoch 8/10\n",
      "36916/36916 [==============================] - 231s 6ms/step - loss: 6.0327 - val_loss: 5.7452\n",
      "Epoch 9/10\n",
      "36916/36916 [==============================] - 221s 6ms/step - loss: 6.0175 - val_loss: 5.8306\n",
      "Epoch 10/10\n",
      "36916/36916 [==============================] - 227s 6ms/step - loss: 5.9336 - val_loss: 6.3716\n"
     ]
    },
    {
     "data": {
      "text/plain": [
       "<tensorflow.python.keras.callbacks.History at 0x1c1e0d0d0>"
      ]
     },
     "execution_count": 14,
     "metadata": {},
     "output_type": "execute_result"
    }
   ],
   "source": [
    "model.fit(x_train, y_train, \n",
    "         batch_size = 32, \n",
    "         epochs = 10, \n",
    "         validation_data = (x_val, y_val))"
   ]
  },
  {
   "cell_type": "markdown",
   "id": "4b41b8bc",
   "metadata": {},
   "source": [
    "# Evaluate Model<br>Part1: documents ranking"
   ]
  },
  {
   "cell_type": "code",
   "execution_count": 15,
   "id": "0b76b0bd",
   "metadata": {},
   "outputs": [
    {
     "data": {
      "text/html": [
       "<div>\n",
       "<style scoped>\n",
       "    .dataframe tbody tr th:only-of-type {\n",
       "        vertical-align: middle;\n",
       "    }\n",
       "\n",
       "    .dataframe tbody tr th {\n",
       "        vertical-align: top;\n",
       "    }\n",
       "\n",
       "    .dataframe thead th {\n",
       "        text-align: right;\n",
       "    }\n",
       "</style>\n",
       "<table border=\"1\" class=\"dataframe\">\n",
       "  <thead>\n",
       "    <tr style=\"text-align: right;\">\n",
       "      <th></th>\n",
       "      <th>id</th>\n",
       "      <th>topic</th>\n",
       "    </tr>\n",
       "  </thead>\n",
       "  <tbody>\n",
       "    <tr>\n",
       "      <th>0</th>\n",
       "      <td>787021</td>\n",
       "      <td>what is produced by muscle</td>\n",
       "    </tr>\n",
       "    <tr>\n",
       "      <th>1</th>\n",
       "      <td>1049187</td>\n",
       "      <td>who recorded be my baby</td>\n",
       "    </tr>\n",
       "    <tr>\n",
       "      <th>2</th>\n",
       "      <td>1049519</td>\n",
       "      <td>who said no one can make you feel inferior</td>\n",
       "    </tr>\n",
       "    <tr>\n",
       "      <th>3</th>\n",
       "      <td>788054</td>\n",
       "      <td>what is ptf</td>\n",
       "    </tr>\n",
       "    <tr>\n",
       "      <th>4</th>\n",
       "      <td>2082</td>\n",
       "      <td>At about what age do adults normally begin to ...</td>\n",
       "    </tr>\n",
       "  </tbody>\n",
       "</table>\n",
       "</div>"
      ],
      "text/plain": [
       "        id                                              topic\n",
       "0   787021                         what is produced by muscle\n",
       "1  1049187                            who recorded be my baby\n",
       "2  1049519         who said no one can make you feel inferior\n",
       "3   788054                                        what is ptf\n",
       "4     2082  At about what age do adults normally begin to ..."
      ]
     },
     "execution_count": 15,
     "metadata": {},
     "output_type": "execute_result"
    }
   ],
   "source": [
    "test_queries_df = pd.read_csv('./test/2021_queries.tsv', delimiter = \"\\t\" , header=None, names = ['id','topic'])\n",
    "test_queries_df.head(5)"
   ]
  },
  {
   "cell_type": "code",
   "execution_count": 16,
   "id": "516b499d",
   "metadata": {},
   "outputs": [],
   "source": [
    "new_topics_index = test_queries_df.set_index('id').to_dict()['topic']\n",
    "topic_values = test_queries_df['id'].values\n",
    "docs = train_qrels_df['file'].values"
   ]
  },
  {
   "cell_type": "markdown",
   "id": "fe4eb37f",
   "metadata": {},
   "source": [
    "Mapping Documents to Each Topics"
   ]
  },
  {
   "cell_type": "code",
   "execution_count": 17,
   "id": "b06fad2e",
   "metadata": {},
   "outputs": [],
   "source": [
    "rows = []\n",
    "for t in topic_values[:300]:\n",
    "    for d in docs[:100]:\n",
    "        rows.append([t, d])"
   ]
  },
  {
   "cell_type": "code",
   "execution_count": 18,
   "id": "ab3ed2e2",
   "metadata": {},
   "outputs": [],
   "source": [
    "rank_df = pd.DataFrame(rows, columns = ['id', 'file'])\n",
    "test_df = rank_df.copy()\n",
    "test_df['topic'] = test_df.id.map(new_topics_index)\n",
    "test_df['title'] = test_df.file.map(documents_index)\n",
    "test_df = test_df.dropna()\n",
    "test_df['x_test'] = test_df['topic'] + \" \" + test_df['title']"
   ]
  },
  {
   "cell_type": "code",
   "execution_count": 19,
   "id": "1f593d22",
   "metadata": {},
   "outputs": [
    {
     "name": "stdout",
     "output_type": "stream",
     "text": [
      "919/919 [==============================] - 2s 2ms/step\n"
     ]
    }
   ],
   "source": [
    "x_test = test_df['x_test'].values\n",
    "x_test_tokenized = x_tokenizer.texts_to_sequences(x_test)\n",
    "x_testing = sequence.pad_sequences(x_test_tokenized, maxlen = max_text_length)\n",
    "y_testing = model.predict(x_testing, verbose=1, batch_size=32)"
   ]
  },
  {
   "cell_type": "code",
   "execution_count": 20,
   "id": "9fdbbc3b",
   "metadata": {},
   "outputs": [],
   "source": [
    "test_df['score'] = [float(x) for x in y_testing]\n",
    "test_df = test_df.drop(columns=['x_test','title','topic'])\n",
    "rank_df = test_df.sort_values(by=['id','score'], ascending = False)"
   ]
  },
  {
   "cell_type": "code",
   "execution_count": 21,
   "id": "5522b3d1",
   "metadata": {},
   "outputs": [
    {
     "data": {
      "text/html": [
       "<div>\n",
       "<style scoped>\n",
       "    .dataframe tbody tr th:only-of-type {\n",
       "        vertical-align: middle;\n",
       "    }\n",
       "\n",
       "    .dataframe tbody tr th {\n",
       "        vertical-align: top;\n",
       "    }\n",
       "\n",
       "    .dataframe thead th {\n",
       "        text-align: right;\n",
       "    }\n",
       "</style>\n",
       "<table border=\"1\" class=\"dataframe\">\n",
       "  <thead>\n",
       "    <tr style=\"text-align: right;\">\n",
       "      <th></th>\n",
       "      <th>id</th>\n",
       "      <th>file</th>\n",
       "      <th>score</th>\n",
       "      <th>rank</th>\n",
       "    </tr>\n",
       "  </thead>\n",
       "  <tbody>\n",
       "    <tr>\n",
       "      <th>24692</th>\n",
       "      <td>1136769</td>\n",
       "      <td>msmarco_doc_58_863235543</td>\n",
       "      <td>13.081055</td>\n",
       "      <td>1</td>\n",
       "    </tr>\n",
       "    <tr>\n",
       "      <th>24691</th>\n",
       "      <td>1136769</td>\n",
       "      <td>msmarco_doc_19_777567412</td>\n",
       "      <td>12.619779</td>\n",
       "      <td>2</td>\n",
       "    </tr>\n",
       "    <tr>\n",
       "      <th>24674</th>\n",
       "      <td>1136769</td>\n",
       "      <td>msmarco_doc_08_1708693754</td>\n",
       "      <td>12.508640</td>\n",
       "      <td>3</td>\n",
       "    </tr>\n",
       "    <tr>\n",
       "      <th>24685</th>\n",
       "      <td>1136769</td>\n",
       "      <td>msmarco_doc_10_452791723</td>\n",
       "      <td>12.342521</td>\n",
       "      <td>4</td>\n",
       "    </tr>\n",
       "    <tr>\n",
       "      <th>24634</th>\n",
       "      <td>1136769</td>\n",
       "      <td>msmarco_doc_41_412361142</td>\n",
       "      <td>12.064927</td>\n",
       "      <td>5</td>\n",
       "    </tr>\n",
       "    <tr>\n",
       "      <th>...</th>\n",
       "      <td>...</td>\n",
       "      <td>...</td>\n",
       "      <td>...</td>\n",
       "      <td>...</td>\n",
       "    </tr>\n",
       "    <tr>\n",
       "      <th>438</th>\n",
       "      <td>2082</td>\n",
       "      <td>msmarco_doc_05_261279398</td>\n",
       "      <td>8.629291</td>\n",
       "      <td>94</td>\n",
       "    </tr>\n",
       "    <tr>\n",
       "      <th>409</th>\n",
       "      <td>2082</td>\n",
       "      <td>msmarco_doc_03_889237013</td>\n",
       "      <td>8.259294</td>\n",
       "      <td>95</td>\n",
       "    </tr>\n",
       "    <tr>\n",
       "      <th>480</th>\n",
       "      <td>2082</td>\n",
       "      <td>msmarco_doc_10_342737855</td>\n",
       "      <td>7.871660</td>\n",
       "      <td>96</td>\n",
       "    </tr>\n",
       "    <tr>\n",
       "      <th>464</th>\n",
       "      <td>2082</td>\n",
       "      <td>msmarco_doc_03_891708626</td>\n",
       "      <td>7.736861</td>\n",
       "      <td>97</td>\n",
       "    </tr>\n",
       "    <tr>\n",
       "      <th>407</th>\n",
       "      <td>2082</td>\n",
       "      <td>msmarco_doc_10_783928151</td>\n",
       "      <td>7.708967</td>\n",
       "      <td>98</td>\n",
       "    </tr>\n",
       "  </tbody>\n",
       "</table>\n",
       "<p>29400 rows × 4 columns</p>\n",
       "</div>"
      ],
      "text/plain": [
       "            id                       file      score  rank\n",
       "24692  1136769   msmarco_doc_58_863235543  13.081055     1\n",
       "24691  1136769   msmarco_doc_19_777567412  12.619779     2\n",
       "24674  1136769  msmarco_doc_08_1708693754  12.508640     3\n",
       "24685  1136769   msmarco_doc_10_452791723  12.342521     4\n",
       "24634  1136769   msmarco_doc_41_412361142  12.064927     5\n",
       "...        ...                        ...        ...   ...\n",
       "438       2082   msmarco_doc_05_261279398   8.629291    94\n",
       "409       2082   msmarco_doc_03_889237013   8.259294    95\n",
       "480       2082   msmarco_doc_10_342737855   7.871660    96\n",
       "464       2082   msmarco_doc_03_891708626   7.736861    97\n",
       "407       2082   msmarco_doc_10_783928151   7.708967    98\n",
       "\n",
       "[29400 rows x 4 columns]"
      ]
     },
     "execution_count": 21,
     "metadata": {},
     "output_type": "execute_result"
    }
   ],
   "source": [
    "rank_df['rank'] = rank_df.groupby('id')['score'].rank(ascending=False).astype(int)\n",
    "np.savetxt(r'./doc_ranking.txt', rank_df.values,fmt='%s')\n",
    "rank_df"
   ]
  },
  {
   "cell_type": "markdown",
   "id": "8788355f",
   "metadata": {},
   "source": [
    "# Part2: top100_reranking\n",
    "<rb>I used docv2_tran_top100.txt for reranking"
   ]
  },
  {
   "cell_type": "code",
   "execution_count": 22,
   "id": "3d7c74ab",
   "metadata": {},
   "outputs": [
    {
     "data": {
      "text/html": [
       "<div>\n",
       "<style scoped>\n",
       "    .dataframe tbody tr th:only-of-type {\n",
       "        vertical-align: middle;\n",
       "    }\n",
       "\n",
       "    .dataframe tbody tr th {\n",
       "        vertical-align: top;\n",
       "    }\n",
       "\n",
       "    .dataframe thead th {\n",
       "        text-align: right;\n",
       "    }\n",
       "</style>\n",
       "<table border=\"1\" class=\"dataframe\">\n",
       "  <thead>\n",
       "    <tr style=\"text-align: right;\">\n",
       "      <th></th>\n",
       "      <th>id</th>\n",
       "      <th>used</th>\n",
       "      <th>file</th>\n",
       "      <th>rank</th>\n",
       "      <th>score</th>\n",
       "      <th>username</th>\n",
       "    </tr>\n",
       "  </thead>\n",
       "  <tbody>\n",
       "    <tr>\n",
       "      <th>0</th>\n",
       "      <td>3</td>\n",
       "      <td>Q0</td>\n",
       "      <td>msmarco_doc_22_449579381</td>\n",
       "      <td>1</td>\n",
       "      <td>12.077800</td>\n",
       "      <td>Anserini</td>\n",
       "    </tr>\n",
       "    <tr>\n",
       "      <th>1</th>\n",
       "      <td>3</td>\n",
       "      <td>Q0</td>\n",
       "      <td>msmarco_doc_16_3765146983</td>\n",
       "      <td>2</td>\n",
       "      <td>11.966400</td>\n",
       "      <td>Anserini</td>\n",
       "    </tr>\n",
       "    <tr>\n",
       "      <th>2</th>\n",
       "      <td>3</td>\n",
       "      <td>Q0</td>\n",
       "      <td>msmarco_doc_16_3772357379</td>\n",
       "      <td>3</td>\n",
       "      <td>11.966399</td>\n",
       "      <td>Anserini</td>\n",
       "    </tr>\n",
       "    <tr>\n",
       "      <th>3</th>\n",
       "      <td>3</td>\n",
       "      <td>Q0</td>\n",
       "      <td>msmarco_doc_00_821814871</td>\n",
       "      <td>4</td>\n",
       "      <td>11.954800</td>\n",
       "      <td>Anserini</td>\n",
       "    </tr>\n",
       "    <tr>\n",
       "      <th>4</th>\n",
       "      <td>3</td>\n",
       "      <td>Q0</td>\n",
       "      <td>msmarco_doc_01_1914713906</td>\n",
       "      <td>5</td>\n",
       "      <td>11.925100</td>\n",
       "      <td>Anserini</td>\n",
       "    </tr>\n",
       "    <tr>\n",
       "      <th>5</th>\n",
       "      <td>3</td>\n",
       "      <td>Q0</td>\n",
       "      <td>msmarco_doc_00_599701433</td>\n",
       "      <td>6</td>\n",
       "      <td>11.904700</td>\n",
       "      <td>Anserini</td>\n",
       "    </tr>\n",
       "    <tr>\n",
       "      <th>6</th>\n",
       "      <td>3</td>\n",
       "      <td>Q0</td>\n",
       "      <td>msmarco_doc_04_176608381</td>\n",
       "      <td>7</td>\n",
       "      <td>11.897000</td>\n",
       "      <td>Anserini</td>\n",
       "    </tr>\n",
       "    <tr>\n",
       "      <th>7</th>\n",
       "      <td>3</td>\n",
       "      <td>Q0</td>\n",
       "      <td>msmarco_doc_08_185507485</td>\n",
       "      <td>8</td>\n",
       "      <td>11.857600</td>\n",
       "      <td>Anserini</td>\n",
       "    </tr>\n",
       "    <tr>\n",
       "      <th>8</th>\n",
       "      <td>3</td>\n",
       "      <td>Q0</td>\n",
       "      <td>msmarco_doc_05_1605175028</td>\n",
       "      <td>9</td>\n",
       "      <td>11.819000</td>\n",
       "      <td>Anserini</td>\n",
       "    </tr>\n",
       "    <tr>\n",
       "      <th>9</th>\n",
       "      <td>3</td>\n",
       "      <td>Q0</td>\n",
       "      <td>msmarco_doc_26_1982585323</td>\n",
       "      <td>10</td>\n",
       "      <td>11.798000</td>\n",
       "      <td>Anserini</td>\n",
       "    </tr>\n",
       "  </tbody>\n",
       "</table>\n",
       "</div>"
      ],
      "text/plain": [
       "   id used                       file  rank      score  username\n",
       "0   3   Q0   msmarco_doc_22_449579381     1  12.077800  Anserini\n",
       "1   3   Q0  msmarco_doc_16_3765146983     2  11.966400  Anserini\n",
       "2   3   Q0  msmarco_doc_16_3772357379     3  11.966399  Anserini\n",
       "3   3   Q0   msmarco_doc_00_821814871     4  11.954800  Anserini\n",
       "4   3   Q0  msmarco_doc_01_1914713906     5  11.925100  Anserini\n",
       "5   3   Q0   msmarco_doc_00_599701433     6  11.904700  Anserini\n",
       "6   3   Q0   msmarco_doc_04_176608381     7  11.897000  Anserini\n",
       "7   3   Q0   msmarco_doc_08_185507485     8  11.857600  Anserini\n",
       "8   3   Q0  msmarco_doc_05_1605175028     9  11.819000  Anserini\n",
       "9   3   Q0  msmarco_doc_26_1982585323    10  11.798000  Anserini"
      ]
     },
     "execution_count": 22,
     "metadata": {},
     "output_type": "execute_result"
    }
   ],
   "source": [
    "test_top100_df = pd.read_csv('./train/docv2_train_top100.txt', delimiter = \" \", names = ['id','used','file','rank','score','username'])\n",
    "test_top100_df.head(10)"
   ]
  },
  {
   "cell_type": "code",
   "execution_count": 23,
   "id": "05b0809b",
   "metadata": {},
   "outputs": [],
   "source": [
    "test_top100_df['topic'] = test_top100_df['id'].map(topics_index)\n",
    "test_top100_df['title'] = test_top100_df['file'].map(documents_index)\n",
    "test_top100_df = test_top100_df.dropna()\n",
    "test_top100_df['x_test'] = test_top100_df['topic'] + \" \" + test_top100_df['title']"
   ]
  },
  {
   "cell_type": "code",
   "execution_count": 24,
   "id": "df58a4ed",
   "metadata": {},
   "outputs": [
    {
     "name": "stdout",
     "output_type": "stream",
     "text": [
      "43431/43431 [==============================] - 74s 2ms/step\n"
     ]
    }
   ],
   "source": [
    "x_top100_testing = test_top100_df['x_test'].values\n",
    "x_top100_test_tokenized = x_tokenizer.texts_to_sequences(x_top100_testing)\n",
    "x_top100_testing = sequence.pad_sequences(x_top100_test_tokenized, maxlen = max_text_length)\n",
    "y_top100_testing = model.predict(x_top100_testing, verbose=1, batch_size=32)"
   ]
  },
  {
   "cell_type": "code",
   "execution_count": 25,
   "id": "65e7c9d9",
   "metadata": {},
   "outputs": [],
   "source": [
    "rerank_top100_df = test_top100_df.drop(columns = ['x_test', 'title', 'topic', 'username', 'score', 'rank', 'used'])\n",
    "rerank_top100_df['score'] = [float(x) for x in y_top100_testing]\n",
    "rerank_top100_df = rerank_top100_df.sort_values(by=['id','score'], ascending = False)"
   ]
  },
  {
   "cell_type": "code",
   "execution_count": 26,
   "id": "a9a35b68",
   "metadata": {},
   "outputs": [
    {
     "data": {
      "text/html": [
       "<div>\n",
       "<style scoped>\n",
       "    .dataframe tbody tr th:only-of-type {\n",
       "        vertical-align: middle;\n",
       "    }\n",
       "\n",
       "    .dataframe tbody tr th {\n",
       "        vertical-align: top;\n",
       "    }\n",
       "\n",
       "    .dataframe thead th {\n",
       "        text-align: right;\n",
       "    }\n",
       "</style>\n",
       "<table border=\"1\" class=\"dataframe\">\n",
       "  <thead>\n",
       "    <tr style=\"text-align: right;\">\n",
       "      <th></th>\n",
       "      <th>id</th>\n",
       "      <th>file</th>\n",
       "      <th>score</th>\n",
       "      <th>rank</th>\n",
       "    </tr>\n",
       "  </thead>\n",
       "  <tbody>\n",
       "    <tr>\n",
       "      <th>32218735</th>\n",
       "      <td>1185869</td>\n",
       "      <td>msmarco_doc_10_423537489</td>\n",
       "      <td>10.674301</td>\n",
       "      <td>1</td>\n",
       "    </tr>\n",
       "    <tr>\n",
       "      <th>32218767</th>\n",
       "      <td>1185869</td>\n",
       "      <td>msmarco_doc_17_1254574904</td>\n",
       "      <td>10.617181</td>\n",
       "      <td>2</td>\n",
       "    </tr>\n",
       "    <tr>\n",
       "      <th>32218720</th>\n",
       "      <td>1185869</td>\n",
       "      <td>msmarco_doc_06_1612776115</td>\n",
       "      <td>10.541935</td>\n",
       "      <td>3</td>\n",
       "    </tr>\n",
       "    <tr>\n",
       "      <th>32218758</th>\n",
       "      <td>1185869</td>\n",
       "      <td>msmarco_doc_17_4719433890</td>\n",
       "      <td>10.375751</td>\n",
       "      <td>4</td>\n",
       "    </tr>\n",
       "    <tr>\n",
       "      <th>32218754</th>\n",
       "      <td>1185869</td>\n",
       "      <td>msmarco_doc_30_214786134</td>\n",
       "      <td>9.955307</td>\n",
       "      <td>5</td>\n",
       "    </tr>\n",
       "    <tr>\n",
       "      <th>...</th>\n",
       "      <td>...</td>\n",
       "      <td>...</td>\n",
       "      <td>...</td>\n",
       "      <td>...</td>\n",
       "    </tr>\n",
       "    <tr>\n",
       "      <th>84</th>\n",
       "      <td>3</td>\n",
       "      <td>msmarco_doc_18_3676159488</td>\n",
       "      <td>10.051237</td>\n",
       "      <td>3</td>\n",
       "    </tr>\n",
       "    <tr>\n",
       "      <th>54</th>\n",
       "      <td>3</td>\n",
       "      <td>msmarco_doc_18_2698878789</td>\n",
       "      <td>9.724071</td>\n",
       "      <td>4</td>\n",
       "    </tr>\n",
       "    <tr>\n",
       "      <th>56</th>\n",
       "      <td>3</td>\n",
       "      <td>msmarco_doc_18_423924267</td>\n",
       "      <td>9.724071</td>\n",
       "      <td>4</td>\n",
       "    </tr>\n",
       "    <tr>\n",
       "      <th>26</th>\n",
       "      <td>3</td>\n",
       "      <td>msmarco_doc_19_478270426</td>\n",
       "      <td>9.580538</td>\n",
       "      <td>6</td>\n",
       "    </tr>\n",
       "    <tr>\n",
       "      <th>67</th>\n",
       "      <td>3</td>\n",
       "      <td>msmarco_doc_16_2338409058</td>\n",
       "      <td>9.008437</td>\n",
       "      <td>7</td>\n",
       "    </tr>\n",
       "  </tbody>\n",
       "</table>\n",
       "<p>1389777 rows × 4 columns</p>\n",
       "</div>"
      ],
      "text/plain": [
       "               id                       file      score  rank\n",
       "32218735  1185869   msmarco_doc_10_423537489  10.674301     1\n",
       "32218767  1185869  msmarco_doc_17_1254574904  10.617181     2\n",
       "32218720  1185869  msmarco_doc_06_1612776115  10.541935     3\n",
       "32218758  1185869  msmarco_doc_17_4719433890  10.375751     4\n",
       "32218754  1185869   msmarco_doc_30_214786134   9.955307     5\n",
       "...           ...                        ...        ...   ...\n",
       "84              3  msmarco_doc_18_3676159488  10.051237     3\n",
       "54              3  msmarco_doc_18_2698878789   9.724071     4\n",
       "56              3   msmarco_doc_18_423924267   9.724071     4\n",
       "26              3   msmarco_doc_19_478270426   9.580538     6\n",
       "67              3  msmarco_doc_16_2338409058   9.008437     7\n",
       "\n",
       "[1389777 rows x 4 columns]"
      ]
     },
     "execution_count": 26,
     "metadata": {},
     "output_type": "execute_result"
    }
   ],
   "source": [
    "rerank_top100_df['rank'] = rerank_top100_df.groupby('id').rank(ascending=False).astype(int)\n",
    "np.savetxt(r'./doc_top100_reranking.txt', rerank_top100_df.values,fmt='%s')\n",
    "rerank_top100_df"
   ]
  },
  {
   "cell_type": "code",
   "execution_count": null,
   "id": "1ffdecf7",
   "metadata": {},
   "outputs": [],
   "source": []
  }
 ],
 "metadata": {
  "kernelspec": {
   "display_name": "Python 3",
   "language": "python",
   "name": "python3"
  },
  "language_info": {
   "codemirror_mode": {
    "name": "ipython",
    "version": 3
   },
   "file_extension": ".py",
   "mimetype": "text/x-python",
   "name": "python",
   "nbconvert_exporter": "python",
   "pygments_lexer": "ipython3",
   "version": "3.9.7"
  }
 },
 "nbformat": 4,
 "nbformat_minor": 5
}

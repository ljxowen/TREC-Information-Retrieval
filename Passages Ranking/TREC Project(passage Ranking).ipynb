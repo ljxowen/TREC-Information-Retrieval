{
 "cells": [
  {
   "cell_type": "markdown",
   "id": "5c37af68",
   "metadata": {},
   "source": [
    "# TREC 2021 Deep Learning Track (Information Retrieval)<br>Task2<br>Passages Ranking\n",
    "Auther: Jingxuan Liu<br>\n",
    "Id: 173098550"
   ]
  },
  {
   "cell_type": "code",
   "execution_count": 1,
   "id": "4f616007",
   "metadata": {},
   "outputs": [],
   "source": [
    "import numpy as np\n",
    "import pandas as pd\n",
    "import tensorflow as tf\n",
    "from tensorflow.keras.preprocessing import text, sequence\n",
    "from tensorflow.keras.models import Sequential\n",
    "from tensorflow.keras.layers import Dense, Dropout, Activation\n",
    "from tensorflow.keras.layers import Embedding\n",
    "from tensorflow.keras.layers import Conv1D, GlobalMaxPooling1D, MaxPooling1D\n",
    "from sklearn.model_selection import train_test_split\n",
    "import json\n",
    "pd.options.mode.chained_assignment = None"
   ]
  },
  {
   "cell_type": "code",
   "execution_count": 2,
   "id": "3a86a7e0",
   "metadata": {},
   "outputs": [
    {
     "name": "stdout",
     "output_type": "stream",
     "text": [
      "dict_keys(['pid', 'passage', 'spans', 'docid'])\n"
     ]
    },
    {
     "data": {
      "text/plain": [
       "'TANF funds should target the families with the lowest incomes and should be used primarily for cash assistance. Congress also should replace the work participation rate with access measures to ensure that states serve families in need and with performance measures based on employment and earnings outcomes.'"
      ]
     },
     "execution_count": 2,
     "metadata": {},
     "output_type": "execute_result"
    }
   ],
   "source": [
    "def get_passage(passage_id):\n",
    "    (string1, string2, bundlenum, position) = passage_id.split('_')\n",
    "    assert string1 == 'msmarco' and string2 == 'passage'\n",
    "\n",
    "    with open(f'./msmarco_v2_passage/msmarco_passage_{bundlenum}', 'rt', encoding='utf8') as in_fh:\n",
    "        in_fh.seek(int(position))\n",
    "        json_string = in_fh.readline()\n",
    "        passage = json.loads(json_string)\n",
    "        assert passage['pid'] == passage_id\n",
    "        return passage\n",
    "    \n",
    "def get_document(document_id):\n",
    "    (string1, string2, bundlenum, position) = document_id.split('_')\n",
    "    assert string1 == 'msmarco' and string2 == 'doc'\n",
    "\n",
    "    with open(f'./msmarco_v2_doc/msmarco_doc_{bundlenum}', 'rt', encoding='utf8') as in_fh:\n",
    "        in_fh.seek(int(position))\n",
    "        json_string = in_fh.readline()\n",
    "        document = json.loads(json_string)\n",
    "        assert document['docid'] == document_id\n",
    "        return document\n",
    "\n",
    "passage = get_passage('msmarco_passage_41_45753370')\n",
    "print(passage.keys())\n",
    "passage['passage']"
   ]
  },
  {
   "cell_type": "markdown",
   "id": "aaa7e95f",
   "metadata": {},
   "source": [
    "# Prepare Training Data"
   ]
  },
  {
   "cell_type": "code",
   "execution_count": 3,
   "id": "e33a1ccd",
   "metadata": {},
   "outputs": [],
   "source": [
    "train_qrels_df = pd.read_csv('./train/passv2_train_qrels.tsv', names = ['0','file','1'], header = None,delimiter = \"\\t\")\n",
    "train_queries_df = pd.read_csv('./train/passv2_train_queries.tsv', delimiter = \"\\t\" , header=None, names = ['id','topic'])\n",
    "train_top100_df = pd.read_csv('./train/passv2_train_top100.txt', delimiter = \" \", names = ['id','used','file','rank','score','username'])"
   ]
  },
  {
   "cell_type": "markdown",
   "id": "ae07b4e7",
   "metadata": {},
   "source": [
    "Dictionary for Passage "
   ]
  },
  {
   "cell_type": "code",
   "execution_count": 4,
   "id": "41939d9f",
   "metadata": {},
   "outputs": [
    {
     "name": "stdout",
     "output_type": "stream",
     "text": [
      "Found 245838 passage number.\n"
     ]
    },
    {
     "data": {
      "text/plain": [
       "{'msmarco_passage_08_840101254': 'msmarco_doc_08_1219973188',\n",
       " 'msmarco_passage_01_444503625': 'msmarco_doc_01_1169432284',\n",
       " 'msmarco_passage_20_461843390': 'msmarco_doc_18_1691014504',\n",
       " 'msmarco_passage_00_837399976': 'msmarco_doc_00_1646189544',\n",
       " 'msmarco_passage_08_12770678': 'msmarco_doc_07_1345903696'}"
      ]
     },
     "execution_count": 4,
     "metadata": {},
     "output_type": "execute_result"
    }
   ],
   "source": [
    "passages = train_qrels_df['file'].values\n",
    "passages_index = dict()\n",
    "for pas in passages:\n",
    "    passage = get_passage(pas)\n",
    "    if passage['docid'] != \"\":\n",
    "        passages_index[pas] = passage['docid']\n",
    "print(f'Found {len(passages_index)} passage number.')\n",
    "dict(list(passages_index.items())[0:5])"
   ]
  },
  {
   "cell_type": "markdown",
   "id": "d171edd7",
   "metadata": {},
   "source": [
    "Dictionary for Id and Topic"
   ]
  },
  {
   "cell_type": "code",
   "execution_count": 5,
   "id": "6680b646",
   "metadata": {},
   "outputs": [
    {
     "name": "stdout",
     "output_type": "stream",
     "text": [
      "Found 277144 doc number.\n"
     ]
    },
    {
     "data": {
      "text/plain": [
       "{121352: 'define extreme',\n",
       " 510633: 'tattoo fixers how much does it cost',\n",
       " 674172: 'what is a bank transit number',\n",
       " 570009: 'what are the four major groups of elements',\n",
       " 54528: 'blood clots in urine after menopause',\n",
       " 507001: 'symptoms of an enlarged heart in dogs',\n",
       " 466926: 'number of times congress voted to repeal aca',\n",
       " 224811: 'how does a firefly light up',\n",
       " 918533: 'what was introduced to the human diet in what year',\n",
       " 80926: 'can you use wallapop on your computer'}"
      ]
     },
     "execution_count": 5,
     "metadata": {},
     "output_type": "execute_result"
    }
   ],
   "source": [
    "topics_index = train_queries_df.set_index('id').to_dict()['topic']\n",
    "print(f'Found {len(topics_index)} doc number.')\n",
    "dict(list(topics_index.items())[0:10])"
   ]
  },
  {
   "cell_type": "markdown",
   "id": "3bee5849",
   "metadata": {},
   "source": [
    "Dictionary for Document and Title"
   ]
  },
  {
   "cell_type": "code",
   "execution_count": 6,
   "id": "a406cda0",
   "metadata": {},
   "outputs": [
    {
     "name": "stdout",
     "output_type": "stream",
     "text": [
      "Found 267649 doc number.\n"
     ]
    },
    {
     "data": {
      "text/plain": [
       "{'msmarco_doc_10_1691063043': 'French and the francophonie in Canada',\n",
       " 'msmarco_doc_05_72507775': 'Westminster, California (CA 92683) profile: population, maps, real estate, averages, homes, statistics, relocation, travel, jobs, hospitals, schools, crime, moving, houses, news, sex offenders',\n",
       " 'msmarco_doc_19_673141443': 'Westminster, California - Wikipedia',\n",
       " 'msmarco_doc_19_673231526': 'Westminster, Massachusetts - Wikipedia',\n",
       " 'msmarco_doc_19_673209131': 'Westminster, Maryland - Wikipedia'}"
      ]
     },
     "execution_count": 6,
     "metadata": {},
     "output_type": "execute_result"
    }
   ],
   "source": [
    "title_df = pd.read_csv('./train/docv2_train_qrels.tsv', names = ['0','file','1'], header = None,delimiter = \"\\t\")\n",
    "docs = title_df['file'].values\n",
    "documents_index = dict()\n",
    "for doc in docs:\n",
    "    document = get_document(doc)\n",
    "    if document['title'] != \"\":\n",
    "        documents_index[doc] = document['title']\n",
    "print(f'Found {len(documents_index)} doc number.')\n",
    "dict(list(documents_index.items())[0:5])"
   ]
  },
  {
   "cell_type": "code",
   "execution_count": 7,
   "id": "832013a4",
   "metadata": {},
   "outputs": [
    {
     "data": {
      "text/html": [
       "<div>\n",
       "<style scoped>\n",
       "    .dataframe tbody tr th:only-of-type {\n",
       "        vertical-align: middle;\n",
       "    }\n",
       "\n",
       "    .dataframe tbody tr th {\n",
       "        vertical-align: top;\n",
       "    }\n",
       "\n",
       "    .dataframe thead th {\n",
       "        text-align: right;\n",
       "    }\n",
       "</style>\n",
       "<table border=\"1\" class=\"dataframe\">\n",
       "  <thead>\n",
       "    <tr style=\"text-align: right;\">\n",
       "      <th></th>\n",
       "      <th>id</th>\n",
       "      <th>used</th>\n",
       "      <th>file</th>\n",
       "      <th>rank</th>\n",
       "      <th>score</th>\n",
       "      <th>username</th>\n",
       "      <th>title</th>\n",
       "      <th>x_train</th>\n",
       "    </tr>\n",
       "  </thead>\n",
       "  <tbody>\n",
       "    <tr>\n",
       "      <th>93</th>\n",
       "      <td>ECT is a treatment that is used for</td>\n",
       "      <td>Q0</td>\n",
       "      <td>msmarco_doc_42_1017960230</td>\n",
       "      <td>94</td>\n",
       "      <td>10.552398</td>\n",
       "      <td>Anserini</td>\n",
       "      <td>Effects of ECT, ECT Side Effects | HealthyPlace</td>\n",
       "      <td>ECT is a treatment that is used for  Effects ...</td>\n",
       "    </tr>\n",
       "    <tr>\n",
       "      <th>113</th>\n",
       "      <td>The vitamin that prevents beriberi is</td>\n",
       "      <td>Q0</td>\n",
       "      <td>msmarco_doc_06_1452720146</td>\n",
       "      <td>14</td>\n",
       "      <td>12.999100</td>\n",
       "      <td>Anserini</td>\n",
       "      <td>Beriberi: Overview, Causes, and Symptoms</td>\n",
       "      <td>The vitamin that prevents beriberi is  Beribe...</td>\n",
       "    </tr>\n",
       "    <tr>\n",
       "      <th>164</th>\n",
       "      <td>The vitamin that prevents beriberi is</td>\n",
       "      <td>Q0</td>\n",
       "      <td>msmarco_doc_28_275379947</td>\n",
       "      <td>65</td>\n",
       "      <td>12.031900</td>\n",
       "      <td>Anserini</td>\n",
       "      <td>Beriberi - Simple English Wikipedia, the free ...</td>\n",
       "      <td>The vitamin that prevents beriberi is  Beribe...</td>\n",
       "    </tr>\n",
       "    <tr>\n",
       "      <th>327</th>\n",
       "      <td>dosimetry medical definition</td>\n",
       "      <td>Q0</td>\n",
       "      <td>msmarco_doc_01_1997961934</td>\n",
       "      <td>28</td>\n",
       "      <td>11.115800</td>\n",
       "      <td>Anserini</td>\n",
       "      <td>What is Medical Dosimetry?</td>\n",
       "      <td>dosimetry medical definition What is Medical ...</td>\n",
       "    </tr>\n",
       "    <tr>\n",
       "      <th>533</th>\n",
       "      <td>shu means what</td>\n",
       "      <td>Q0</td>\n",
       "      <td>msmarco_doc_05_1004011146</td>\n",
       "      <td>34</td>\n",
       "      <td>8.997800</td>\n",
       "      <td>Anserini</td>\n",
       "      <td>What does shu mean?</td>\n",
       "      <td>shu means what What does shu mean?</td>\n",
       "    </tr>\n",
       "  </tbody>\n",
       "</table>\n",
       "</div>"
      ],
      "text/plain": [
       "                                          id used                       file  \\\n",
       "93      ECT is a treatment that is used for    Q0  msmarco_doc_42_1017960230   \n",
       "113   The vitamin that prevents beriberi is    Q0  msmarco_doc_06_1452720146   \n",
       "164   The vitamin that prevents beriberi is    Q0   msmarco_doc_28_275379947   \n",
       "327             dosimetry medical definition   Q0  msmarco_doc_01_1997961934   \n",
       "533                           shu means what   Q0  msmarco_doc_05_1004011146   \n",
       "\n",
       "     rank      score  username  \\\n",
       "93     94  10.552398  Anserini   \n",
       "113    14  12.999100  Anserini   \n",
       "164    65  12.031900  Anserini   \n",
       "327    28  11.115800  Anserini   \n",
       "533    34   8.997800  Anserini   \n",
       "\n",
       "                                                 title  \\\n",
       "93     Effects of ECT, ECT Side Effects | HealthyPlace   \n",
       "113           Beriberi: Overview, Causes, and Symptoms   \n",
       "164  Beriberi - Simple English Wikipedia, the free ...   \n",
       "327                         What is Medical Dosimetry?   \n",
       "533                                What does shu mean?   \n",
       "\n",
       "                                               x_train  \n",
       "93    ECT is a treatment that is used for  Effects ...  \n",
       "113   The vitamin that prevents beriberi is  Beribe...  \n",
       "164   The vitamin that prevents beriberi is  Beribe...  \n",
       "327   dosimetry medical definition What is Medical ...  \n",
       "533                 shu means what What does shu mean?  "
      ]
     },
     "execution_count": 7,
     "metadata": {},
     "output_type": "execute_result"
    }
   ],
   "source": [
    "train_top100_df['id'] = train_top100_df.id.map(topics_index)\n",
    "train_top100_df['file'] = train_top100_df.file.map(passages_index)\n",
    "train_top100_df['title'] = train_top100_df.file.map(documents_index)\n",
    "train_top100_df = train_top100_df.dropna()\n",
    "train_top100_df['x_train'] = train_top100_df['id']+\" \"+train_top100_df['title']\n",
    "train_top100_df.head(5)"
   ]
  },
  {
   "cell_type": "markdown",
   "id": "faae821b",
   "metadata": {},
   "source": [
    "# Tokenize and Pad Data for Training Data"
   ]
  },
  {
   "cell_type": "code",
   "execution_count": 8,
   "id": "e6bbe685",
   "metadata": {},
   "outputs": [
    {
     "name": "stdout",
     "output_type": "stream",
     "text": [
      "_________ justice is designed to repair the harm to victim, the community and the offender caused by the offender criminal act. question 19 options: Restorative justice - Wikipedia\n"
     ]
    }
   ],
   "source": [
    "x = train_top100_df['x_train'].values\n",
    "max = 0 \n",
    "s = ''\n",
    "for i in x:\n",
    "    if len(i)>max:\n",
    "        max = len(i)\n",
    "        s= i\n",
    "print(i)"
   ]
  },
  {
   "cell_type": "code",
   "execution_count": 9,
   "id": "757b4d27",
   "metadata": {},
   "outputs": [
    {
     "data": {
      "text/plain": [
       "array([[   0,    0,    0, ...,   88,   80, 3372],\n",
       "       [   0,    0,    0, ...,   35,    9,   47],\n",
       "       [   0,    0,    0, ...,    3,   69,  207],\n",
       "       ...,\n",
       "       [   0,    0,    0, ..., 5424, 3822,  119],\n",
       "       [   0,    0,    0, ...,  348,   69,   38],\n",
       "       [   0,    0,    0, ..., 1456, 2801,   13]], dtype=int32)"
      ]
     },
     "execution_count": 9,
     "metadata": {},
     "output_type": "execute_result"
    }
   ],
   "source": [
    "max_feature = 20000\n",
    "max_text_length = 30\n",
    "\n",
    "x = train_top100_df['x_train'].values\n",
    "y = train_top100_df['score'].values\n",
    "\n",
    "x_tokenizer = text.Tokenizer(max_feature)\n",
    "x_tokenizer.fit_on_texts(list(x))\n",
    "x_tokenized = x_tokenizer.texts_to_sequences(x)\n",
    "x_train_val = sequence.pad_sequences(x_tokenized, maxlen = max_text_length)\n",
    "x_train_val"
   ]
  },
  {
   "cell_type": "markdown",
   "id": "46946aa4",
   "metadata": {},
   "source": [
    "# Prepare Embedding Matrix using Pre-trained GloVe Embeddings Data"
   ]
  },
  {
   "cell_type": "code",
   "execution_count": 10,
   "id": "9c9d0289",
   "metadata": {},
   "outputs": [
    {
     "name": "stdout",
     "output_type": "stream",
     "text": [
      "Found 400000 word vectors.\n"
     ]
    }
   ],
   "source": [
    "#!wget http://nlp.stanford.edu/data/glove.6B.zip\n",
    "#!unzip -q glove.6B.zip\n",
    "\n",
    "embedding_dim = 100\n",
    "embeddings_index = dict()\n",
    "f = open('glove.6B.100d.txt')\n",
    "for line in f:\n",
    "    values = line.split()\n",
    "    word = values[0]\n",
    "    coefs = np.asarray(values[1:], dtype='float32')\n",
    "    embeddings_index[word] = coefs\n",
    "f.close()\n",
    "print(f'Found {len(embeddings_index)} word vectors.')"
   ]
  },
  {
   "cell_type": "code",
   "execution_count": 11,
   "id": "2fb15928",
   "metadata": {},
   "outputs": [
    {
     "data": {
      "text/plain": [
       "array([[ 0.        ,  0.        ,  0.        , ...,  0.        ,\n",
       "         0.        ,  0.        ],\n",
       "       [-0.15180001,  0.38409001,  0.89340001, ..., -0.27123001,\n",
       "         0.22157   ,  0.92111999],\n",
       "       [-0.54263997,  0.41475999,  1.03219998, ..., -1.29690003,\n",
       "         0.76217002,  0.46349001],\n",
       "       ...,\n",
       "       [ 0.25466001,  0.11273   , -0.91995001, ...,  0.66464001,\n",
       "        -0.38611999, -0.23083   ],\n",
       "       [ 0.80694002, -0.8786    ,  0.22487   , ..., -1.27059996,\n",
       "        -0.84288001, -0.25398999],\n",
       "       [-1.45879996, -0.472     ,  0.90109003, ..., -0.23966999,\n",
       "         0.51719999, -0.80901998]])"
      ]
     },
     "execution_count": 11,
     "metadata": {},
     "output_type": "execute_result"
    }
   ],
   "source": [
    "embedding_matrix = np.zeros((max_feature, embedding_dim))\n",
    "for word, index in x_tokenizer.word_index.items():\n",
    "    if index > max_feature - 1:\n",
    "        break\n",
    "    else:\n",
    "        embedding_vector = embeddings_index.get(word)\n",
    "        if embedding_vector is not None:\n",
    "            embedding_matrix[index] = embedding_vector\n",
    "embedding_matrix"
   ]
  },
  {
   "cell_type": "markdown",
   "id": "9601ae84",
   "metadata": {},
   "source": [
    "# Build the Model"
   ]
  },
  {
   "cell_type": "markdown",
   "id": "0feaa414",
   "metadata": {},
   "source": [
    "Add Embedding Layer"
   ]
  },
  {
   "cell_type": "code",
   "execution_count": 12,
   "id": "3974e265",
   "metadata": {},
   "outputs": [],
   "source": [
    "model = Sequential()\n",
    "model.add(Embedding(max_feature,\n",
    "                    embedding_dim,\n",
    "                    embeddings_initializer=tf.keras.initializers.Constant(embedding_matrix),\n",
    "                    trainable=False))\n",
    "model.add(Dropout(0.2))"
   ]
  },
  {
   "cell_type": "markdown",
   "id": "f7d5aa4e",
   "metadata": {},
   "source": [
    "Build Rest Model"
   ]
  },
  {
   "cell_type": "code",
   "execution_count": 13,
   "id": "3eeca0e4",
   "metadata": {},
   "outputs": [
    {
     "name": "stdout",
     "output_type": "stream",
     "text": [
      "Model: \"sequential\"\n",
      "_________________________________________________________________\n",
      "Layer (type)                 Output Shape              Param #   \n",
      "=================================================================\n",
      "embedding (Embedding)        (None, None, 100)         2000000   \n",
      "_________________________________________________________________\n",
      "dropout (Dropout)            (None, None, 100)         0         \n",
      "_________________________________________________________________\n",
      "conv1d (Conv1D)              (None, None, 250)         75250     \n",
      "_________________________________________________________________\n",
      "max_pooling1d (MaxPooling1D) (None, None, 250)         0         \n",
      "_________________________________________________________________\n",
      "conv1d_1 (Conv1D)            (None, None, 250)         312750    \n",
      "_________________________________________________________________\n",
      "global_max_pooling1d (Global (None, 250)               0         \n",
      "_________________________________________________________________\n",
      "dense (Dense)                (None, 250)               62750     \n",
      "_________________________________________________________________\n",
      "dropout_1 (Dropout)          (None, 250)               0         \n",
      "_________________________________________________________________\n",
      "dense_1 (Dense)              (None, 1)                 251       \n",
      "=================================================================\n",
      "Total params: 2,451,001\n",
      "Trainable params: 451,001\n",
      "Non-trainable params: 2,000,000\n",
      "_________________________________________________________________\n"
     ]
    }
   ],
   "source": [
    "filters = 250\n",
    "kernel_size = 3\n",
    "hidden_dims = 250\n",
    "\n",
    "model.add(Conv1D(filters,\n",
    "                 kernel_size,\n",
    "                 padding= 'valid'))\n",
    "model.add(MaxPooling1D())\n",
    "model.add(Conv1D(filters,\n",
    "                 5,\n",
    "                 padding = 'valid',\n",
    "                 activation = 'relu'))\n",
    "model.add(GlobalMaxPooling1D())\n",
    "model.add(Dense(hidden_dims, activation = 'relu'))\n",
    "model.add(Dropout(0.2))\n",
    "model.add(Dense(1, activation = 'relu'))\n",
    "model.summary()"
   ]
  },
  {
   "cell_type": "code",
   "execution_count": 14,
   "id": "2e323778",
   "metadata": {},
   "outputs": [],
   "source": [
    "model.compile(loss='mean_squared_error', optimizer='adam')"
   ]
  },
  {
   "cell_type": "markdown",
   "id": "62e05dd6",
   "metadata": {},
   "source": [
    "# Train the Model"
   ]
  },
  {
   "cell_type": "code",
   "execution_count": 15,
   "id": "dd217943",
   "metadata": {},
   "outputs": [],
   "source": [
    "x_train, x_val, y_train, y_val = train_test_split(x_train_val, y, \n",
    "                                                 test_size = 0.15, random_state = 1)"
   ]
  },
  {
   "cell_type": "code",
   "execution_count": 16,
   "id": "2e02e64e",
   "metadata": {},
   "outputs": [
    {
     "name": "stdout",
     "output_type": "stream",
     "text": [
      "Epoch 1/10\n",
      "6792/6792 [==============================] - 56s 8ms/step - loss: 11.4133 - val_loss: 9.3451\n",
      "Epoch 2/10\n",
      "6792/6792 [==============================] - 59s 9ms/step - loss: 8.6617 - val_loss: 7.8400\n",
      "Epoch 3/10\n",
      "6792/6792 [==============================] - 58s 9ms/step - loss: 8.2368 - val_loss: 7.5093\n",
      "Epoch 4/10\n",
      "6792/6792 [==============================] - 57s 8ms/step - loss: 7.8331 - val_loss: 8.1022\n",
      "Epoch 5/10\n",
      "6792/6792 [==============================] - 58s 8ms/step - loss: 7.5686 - val_loss: 7.6846\n",
      "Epoch 6/10\n",
      "6792/6792 [==============================] - 57s 8ms/step - loss: 7.3968 - val_loss: 10.0843\n",
      "Epoch 7/10\n",
      "6792/6792 [==============================] - 56s 8ms/step - loss: 7.2720 - val_loss: 7.7510\n",
      "Epoch 8/10\n",
      "6792/6792 [==============================] - 59s 9ms/step - loss: 7.0106 - val_loss: 8.6169\n",
      "Epoch 9/10\n",
      "6792/6792 [==============================] - 56s 8ms/step - loss: 6.8757 - val_loss: 7.1849\n",
      "Epoch 10/10\n",
      "6792/6792 [==============================] - 57s 8ms/step - loss: 6.7210 - val_loss: 7.1795\n"
     ]
    },
    {
     "data": {
      "text/plain": [
       "<tensorflow.python.keras.callbacks.History at 0x1b458e310>"
      ]
     },
     "execution_count": 16,
     "metadata": {},
     "output_type": "execute_result"
    }
   ],
   "source": [
    "model.fit(x_train, y_train, \n",
    "         batch_size = 32, \n",
    "         epochs = 10, \n",
    "         validation_data = (x_val, y_val))"
   ]
  },
  {
   "cell_type": "markdown",
   "id": "f77e2c39",
   "metadata": {},
   "source": [
    "# Evaluate Model<br>Part1: passages ranking"
   ]
  },
  {
   "cell_type": "code",
   "execution_count": 17,
   "id": "c6fc4bdb",
   "metadata": {},
   "outputs": [
    {
     "data": {
      "text/html": [
       "<div>\n",
       "<style scoped>\n",
       "    .dataframe tbody tr th:only-of-type {\n",
       "        vertical-align: middle;\n",
       "    }\n",
       "\n",
       "    .dataframe tbody tr th {\n",
       "        vertical-align: top;\n",
       "    }\n",
       "\n",
       "    .dataframe thead th {\n",
       "        text-align: right;\n",
       "    }\n",
       "</style>\n",
       "<table border=\"1\" class=\"dataframe\">\n",
       "  <thead>\n",
       "    <tr style=\"text-align: right;\">\n",
       "      <th></th>\n",
       "      <th>id</th>\n",
       "      <th>topic</th>\n",
       "    </tr>\n",
       "  </thead>\n",
       "  <tbody>\n",
       "    <tr>\n",
       "      <th>0</th>\n",
       "      <td>787021</td>\n",
       "      <td>what is produced by muscle</td>\n",
       "    </tr>\n",
       "    <tr>\n",
       "      <th>1</th>\n",
       "      <td>1049187</td>\n",
       "      <td>who recorded be my baby</td>\n",
       "    </tr>\n",
       "    <tr>\n",
       "      <th>2</th>\n",
       "      <td>1049519</td>\n",
       "      <td>who said no one can make you feel inferior</td>\n",
       "    </tr>\n",
       "    <tr>\n",
       "      <th>3</th>\n",
       "      <td>788054</td>\n",
       "      <td>what is ptf</td>\n",
       "    </tr>\n",
       "    <tr>\n",
       "      <th>4</th>\n",
       "      <td>2082</td>\n",
       "      <td>At about what age do adults normally begin to ...</td>\n",
       "    </tr>\n",
       "  </tbody>\n",
       "</table>\n",
       "</div>"
      ],
      "text/plain": [
       "        id                                              topic\n",
       "0   787021                         what is produced by muscle\n",
       "1  1049187                            who recorded be my baby\n",
       "2  1049519         who said no one can make you feel inferior\n",
       "3   788054                                        what is ptf\n",
       "4     2082  At about what age do adults normally begin to ..."
      ]
     },
     "execution_count": 17,
     "metadata": {},
     "output_type": "execute_result"
    }
   ],
   "source": [
    "test_queries_df = pd.read_csv('./test/2021_queries.tsv', delimiter = \"\\t\" , header=None, names = ['id','topic'])\n",
    "test_queries_df.head(5)"
   ]
  },
  {
   "cell_type": "code",
   "execution_count": 18,
   "id": "0b9788eb",
   "metadata": {},
   "outputs": [],
   "source": [
    "new_topics_index = test_queries_df.set_index('id').to_dict()['topic']\n",
    "topic_values = test_queries_df['id'].values\n",
    "docs = train_qrels_df['file'].values"
   ]
  },
  {
   "cell_type": "markdown",
   "id": "55da3b2d",
   "metadata": {},
   "source": [
    "Mapping Passage Documents to Each Topics"
   ]
  },
  {
   "cell_type": "code",
   "execution_count": 19,
   "id": "5b3acc20",
   "metadata": {},
   "outputs": [],
   "source": [
    "rows = []\n",
    "for t in topic_values[0:300]:\n",
    "    for d in docs[0:100]:\n",
    "        rows.append([t, d])"
   ]
  },
  {
   "cell_type": "code",
   "execution_count": 20,
   "id": "c98ef941",
   "metadata": {},
   "outputs": [],
   "source": [
    "rank_df = pd.DataFrame(rows, columns = ['id', 'file'])\n",
    "test_df = rank_df.copy()\n",
    "test_df['topic'] = test_df.id.map(new_topics_index)\n",
    "test_df['docid'] = test_df.file.map(passages_index)\n",
    "test_df['title'] = test_df.docid.map(documents_index)\n",
    "test_df = test_df.dropna()\n",
    "test_df['x_test'] = test_df['topic'] + \" \" + test_df['title']"
   ]
  },
  {
   "cell_type": "code",
   "execution_count": 21,
   "id": "87edd2e4",
   "metadata": {},
   "outputs": [
    {
     "data": {
      "text/plain": [
       "array([[   0,    0,    0, ..., 3695, 3399, 4002],\n",
       "       [   0,    0,    0, ..., 3614,   74,   13],\n",
       "       [   0,    0,    0, ...,    4, 1487,  558],\n",
       "       ...,\n",
       "       [   0,    0,    0, ...,  459,   65,  207],\n",
       "       [   0,    0,    0, ...,  223, 7873,  632],\n",
       "       [   0,    0,    0, ...,   44,    6,  230]], dtype=int32)"
      ]
     },
     "execution_count": 21,
     "metadata": {},
     "output_type": "execute_result"
    }
   ],
   "source": [
    "x_test = test_df['x_test'].values\n",
    "x_test_tokenized = x_tokenizer.texts_to_sequences(x_test)\n",
    "x_testing = sequence.pad_sequences(x_test_tokenized, maxlen = max_text_length)\n",
    "x_testing"
   ]
  },
  {
   "cell_type": "code",
   "execution_count": 22,
   "id": "005a1b4e",
   "metadata": {},
   "outputs": [
    {
     "name": "stdout",
     "output_type": "stream",
     "text": [
      "900/900 [==============================] - 3s 3ms/step\n"
     ]
    }
   ],
   "source": [
    "y_testing = model.predict(x_testing, verbose=1, batch_size=32)"
   ]
  },
  {
   "cell_type": "code",
   "execution_count": 23,
   "id": "b7920c21",
   "metadata": {},
   "outputs": [],
   "source": [
    "test_df['score'] = [float(x) for x in y_testing]\n",
    "test_df = test_df.drop(columns=['x_test','title','topic','docid'])\n",
    "rank_df = test_df.sort_values(by=['id', 'score'], ascending = False)"
   ]
  },
  {
   "cell_type": "code",
   "execution_count": 24,
   "id": "6912302b",
   "metadata": {},
   "outputs": [
    {
     "data": {
      "text/html": [
       "<div>\n",
       "<style scoped>\n",
       "    .dataframe tbody tr th:only-of-type {\n",
       "        vertical-align: middle;\n",
       "    }\n",
       "\n",
       "    .dataframe tbody tr th {\n",
       "        vertical-align: top;\n",
       "    }\n",
       "\n",
       "    .dataframe thead th {\n",
       "        text-align: right;\n",
       "    }\n",
       "</style>\n",
       "<table border=\"1\" class=\"dataframe\">\n",
       "  <thead>\n",
       "    <tr style=\"text-align: right;\">\n",
       "      <th></th>\n",
       "      <th>id</th>\n",
       "      <th>file</th>\n",
       "      <th>score</th>\n",
       "      <th>rank</th>\n",
       "    </tr>\n",
       "  </thead>\n",
       "  <tbody>\n",
       "    <tr>\n",
       "      <th>24695</th>\n",
       "      <td>1136769</td>\n",
       "      <td>msmarco_passage_07_641172265</td>\n",
       "      <td>15.686891</td>\n",
       "      <td>1</td>\n",
       "    </tr>\n",
       "    <tr>\n",
       "      <th>24637</th>\n",
       "      <td>1136769</td>\n",
       "      <td>msmarco_passage_10_737790036</td>\n",
       "      <td>15.311656</td>\n",
       "      <td>2</td>\n",
       "    </tr>\n",
       "    <tr>\n",
       "      <th>24622</th>\n",
       "      <td>1136769</td>\n",
       "      <td>msmarco_passage_04_74703297</td>\n",
       "      <td>15.035100</td>\n",
       "      <td>3</td>\n",
       "    </tr>\n",
       "    <tr>\n",
       "      <th>24648</th>\n",
       "      <td>1136769</td>\n",
       "      <td>msmarco_passage_19_248839014</td>\n",
       "      <td>14.566853</td>\n",
       "      <td>4</td>\n",
       "    </tr>\n",
       "    <tr>\n",
       "      <th>24614</th>\n",
       "      <td>1136769</td>\n",
       "      <td>msmarco_passage_04_613515887</td>\n",
       "      <td>14.427825</td>\n",
       "      <td>5</td>\n",
       "    </tr>\n",
       "    <tr>\n",
       "      <th>...</th>\n",
       "      <td>...</td>\n",
       "      <td>...</td>\n",
       "      <td>...</td>\n",
       "      <td>...</td>\n",
       "    </tr>\n",
       "    <tr>\n",
       "      <th>471</th>\n",
       "      <td>2082</td>\n",
       "      <td>msmarco_passage_53_273579196</td>\n",
       "      <td>11.953814</td>\n",
       "      <td>92</td>\n",
       "    </tr>\n",
       "    <tr>\n",
       "      <th>452</th>\n",
       "      <td>2082</td>\n",
       "      <td>msmarco_passage_08_740029949</td>\n",
       "      <td>11.950468</td>\n",
       "      <td>93</td>\n",
       "    </tr>\n",
       "    <tr>\n",
       "      <th>468</th>\n",
       "      <td>2082</td>\n",
       "      <td>msmarco_passage_01_507777427</td>\n",
       "      <td>11.680532</td>\n",
       "      <td>94</td>\n",
       "    </tr>\n",
       "    <tr>\n",
       "      <th>409</th>\n",
       "      <td>2082</td>\n",
       "      <td>msmarco_passage_02_556351008</td>\n",
       "      <td>11.669019</td>\n",
       "      <td>95</td>\n",
       "    </tr>\n",
       "    <tr>\n",
       "      <th>410</th>\n",
       "      <td>2082</td>\n",
       "      <td>msmarco_passage_02_556351008</td>\n",
       "      <td>11.669019</td>\n",
       "      <td>95</td>\n",
       "    </tr>\n",
       "  </tbody>\n",
       "</table>\n",
       "<p>28800 rows × 4 columns</p>\n",
       "</div>"
      ],
      "text/plain": [
       "            id                          file      score  rank\n",
       "24695  1136769  msmarco_passage_07_641172265  15.686891     1\n",
       "24637  1136769  msmarco_passage_10_737790036  15.311656     2\n",
       "24622  1136769   msmarco_passage_04_74703297  15.035100     3\n",
       "24648  1136769  msmarco_passage_19_248839014  14.566853     4\n",
       "24614  1136769  msmarco_passage_04_613515887  14.427825     5\n",
       "...        ...                           ...        ...   ...\n",
       "471       2082  msmarco_passage_53_273579196  11.953814    92\n",
       "452       2082  msmarco_passage_08_740029949  11.950468    93\n",
       "468       2082  msmarco_passage_01_507777427  11.680532    94\n",
       "409       2082  msmarco_passage_02_556351008  11.669019    95\n",
       "410       2082  msmarco_passage_02_556351008  11.669019    95\n",
       "\n",
       "[28800 rows x 4 columns]"
      ]
     },
     "execution_count": 24,
     "metadata": {},
     "output_type": "execute_result"
    }
   ],
   "source": [
    "rank_df['rank'] = rank_df.groupby('id')['score'].rank(ascending=False).astype(int)\n",
    "np.savetxt(r'./passage_ranking.txt', rank_df.values, fmt='%s')\n",
    "rank_df"
   ]
  },
  {
   "cell_type": "markdown",
   "id": "95de91a1",
   "metadata": {},
   "source": [
    "# Part2: top100_reranking\n",
    "<rb>I used passv2_tran_top100.txt for reranking"
   ]
  },
  {
   "cell_type": "code",
   "execution_count": 25,
   "id": "21a618c6",
   "metadata": {},
   "outputs": [
    {
     "data": {
      "text/html": [
       "<div>\n",
       "<style scoped>\n",
       "    .dataframe tbody tr th:only-of-type {\n",
       "        vertical-align: middle;\n",
       "    }\n",
       "\n",
       "    .dataframe tbody tr th {\n",
       "        vertical-align: top;\n",
       "    }\n",
       "\n",
       "    .dataframe thead th {\n",
       "        text-align: right;\n",
       "    }\n",
       "</style>\n",
       "<table border=\"1\" class=\"dataframe\">\n",
       "  <thead>\n",
       "    <tr style=\"text-align: right;\">\n",
       "      <th></th>\n",
       "      <th>id</th>\n",
       "      <th>used</th>\n",
       "      <th>file</th>\n",
       "      <th>rank</th>\n",
       "      <th>score</th>\n",
       "      <th>username</th>\n",
       "    </tr>\n",
       "  </thead>\n",
       "  <tbody>\n",
       "    <tr>\n",
       "      <th>0</th>\n",
       "      <td>5</td>\n",
       "      <td>Q0</td>\n",
       "      <td>msmarco_passage_49_25899182</td>\n",
       "      <td>1</td>\n",
       "      <td>12.127800</td>\n",
       "      <td>Anserini</td>\n",
       "    </tr>\n",
       "    <tr>\n",
       "      <th>1</th>\n",
       "      <td>5</td>\n",
       "      <td>Q0</td>\n",
       "      <td>msmarco_passage_06_781809452</td>\n",
       "      <td>2</td>\n",
       "      <td>11.942800</td>\n",
       "      <td>Anserini</td>\n",
       "    </tr>\n",
       "    <tr>\n",
       "      <th>2</th>\n",
       "      <td>5</td>\n",
       "      <td>Q0</td>\n",
       "      <td>msmarco_passage_09_146319807</td>\n",
       "      <td>3</td>\n",
       "      <td>11.770300</td>\n",
       "      <td>Anserini</td>\n",
       "    </tr>\n",
       "    <tr>\n",
       "      <th>3</th>\n",
       "      <td>5</td>\n",
       "      <td>Q0</td>\n",
       "      <td>msmarco_passage_18_567713921</td>\n",
       "      <td>4</td>\n",
       "      <td>11.588300</td>\n",
       "      <td>Anserini</td>\n",
       "    </tr>\n",
       "    <tr>\n",
       "      <th>4</th>\n",
       "      <td>5</td>\n",
       "      <td>Q0</td>\n",
       "      <td>msmarco_passage_30_434058059</td>\n",
       "      <td>5</td>\n",
       "      <td>11.588299</td>\n",
       "      <td>Anserini</td>\n",
       "    </tr>\n",
       "    <tr>\n",
       "      <th>5</th>\n",
       "      <td>5</td>\n",
       "      <td>Q0</td>\n",
       "      <td>msmarco_passage_39_274709263</td>\n",
       "      <td>6</td>\n",
       "      <td>11.531900</td>\n",
       "      <td>Anserini</td>\n",
       "    </tr>\n",
       "    <tr>\n",
       "      <th>6</th>\n",
       "      <td>5</td>\n",
       "      <td>Q0</td>\n",
       "      <td>msmarco_passage_65_807511329</td>\n",
       "      <td>7</td>\n",
       "      <td>11.512900</td>\n",
       "      <td>Anserini</td>\n",
       "    </tr>\n",
       "    <tr>\n",
       "      <th>7</th>\n",
       "      <td>5</td>\n",
       "      <td>Q0</td>\n",
       "      <td>msmarco_passage_66_132124624</td>\n",
       "      <td>8</td>\n",
       "      <td>11.512899</td>\n",
       "      <td>Anserini</td>\n",
       "    </tr>\n",
       "    <tr>\n",
       "      <th>8</th>\n",
       "      <td>5</td>\n",
       "      <td>Q0</td>\n",
       "      <td>msmarco_passage_65_453740470</td>\n",
       "      <td>9</td>\n",
       "      <td>11.410800</td>\n",
       "      <td>Anserini</td>\n",
       "    </tr>\n",
       "    <tr>\n",
       "      <th>9</th>\n",
       "      <td>5</td>\n",
       "      <td>Q0</td>\n",
       "      <td>msmarco_passage_53_503988399</td>\n",
       "      <td>10</td>\n",
       "      <td>11.298600</td>\n",
       "      <td>Anserini</td>\n",
       "    </tr>\n",
       "  </tbody>\n",
       "</table>\n",
       "</div>"
      ],
      "text/plain": [
       "   id used                          file  rank      score  username\n",
       "0   5   Q0   msmarco_passage_49_25899182     1  12.127800  Anserini\n",
       "1   5   Q0  msmarco_passage_06_781809452     2  11.942800  Anserini\n",
       "2   5   Q0  msmarco_passage_09_146319807     3  11.770300  Anserini\n",
       "3   5   Q0  msmarco_passage_18_567713921     4  11.588300  Anserini\n",
       "4   5   Q0  msmarco_passage_30_434058059     5  11.588299  Anserini\n",
       "5   5   Q0  msmarco_passage_39_274709263     6  11.531900  Anserini\n",
       "6   5   Q0  msmarco_passage_65_807511329     7  11.512900  Anserini\n",
       "7   5   Q0  msmarco_passage_66_132124624     8  11.512899  Anserini\n",
       "8   5   Q0  msmarco_passage_65_453740470     9  11.410800  Anserini\n",
       "9   5   Q0  msmarco_passage_53_503988399    10  11.298600  Anserini"
      ]
     },
     "execution_count": 25,
     "metadata": {},
     "output_type": "execute_result"
    }
   ],
   "source": [
    "test_top100_df = pd.read_csv('./train/passv2_train_top100.txt', delimiter = \" \", names = ['id','used','file','rank','score','username'])\n",
    "test_top100_df.head(10)"
   ]
  },
  {
   "cell_type": "code",
   "execution_count": 26,
   "id": "dd132cb6",
   "metadata": {},
   "outputs": [],
   "source": [
    "test_top100_df['topic'] = test_top100_df.id.map(topics_index)\n",
    "test_top100_df['docid'] = test_top100_df.file.map(passages_index)\n",
    "test_top100_df['title'] = test_top100_df.docid.map(documents_index)\n",
    "test_top100_df = test_top100_df.dropna()\n",
    "test_top100_df['x_test'] = test_top100_df['topic']+\" \"+test_top100_df['title']"
   ]
  },
  {
   "cell_type": "code",
   "execution_count": 27,
   "id": "c5c6772f",
   "metadata": {},
   "outputs": [
    {
     "name": "stdout",
     "output_type": "stream",
     "text": [
      "7990/7990 [==============================] - 20s 3ms/step\n"
     ]
    }
   ],
   "source": [
    "x_top100_testing = test_top100_df['x_test'].values\n",
    "x_top100_test_tokenized = x_tokenizer.texts_to_sequences(x_top100_testing)\n",
    "x_top100_testing = sequence.pad_sequences(x_top100_test_tokenized, maxlen = max_text_length)\n",
    "y_top100_testing = model.predict(x_top100_testing, verbose=1, batch_size=32)"
   ]
  },
  {
   "cell_type": "code",
   "execution_count": 28,
   "id": "711e8e45",
   "metadata": {},
   "outputs": [],
   "source": [
    "rerank_top100_df = test_top100_df.drop(columns =['x_test','title','docid','topic',\n",
    "                                                 'username','rank','score','used'])\n",
    "rerank_top100_df['score'] = [float(x) for x in y_top100_testing]\n",
    "rerank_top100_df = rerank_top100_df.sort_values(by=['id','score'], ascending = False)"
   ]
  },
  {
   "cell_type": "code",
   "execution_count": 29,
   "id": "69b0dade",
   "metadata": {},
   "outputs": [
    {
     "data": {
      "text/html": [
       "<div>\n",
       "<style scoped>\n",
       "    .dataframe tbody tr th:only-of-type {\n",
       "        vertical-align: middle;\n",
       "    }\n",
       "\n",
       "    .dataframe tbody tr th {\n",
       "        vertical-align: top;\n",
       "    }\n",
       "\n",
       "    .dataframe thead th {\n",
       "        text-align: right;\n",
       "    }\n",
       "</style>\n",
       "<table border=\"1\" class=\"dataframe\">\n",
       "  <thead>\n",
       "    <tr style=\"text-align: right;\">\n",
       "      <th></th>\n",
       "      <th>id</th>\n",
       "      <th>file</th>\n",
       "      <th>score</th>\n",
       "      <th>rank</th>\n",
       "    </tr>\n",
       "  </thead>\n",
       "  <tbody>\n",
       "    <tr>\n",
       "      <th>27713486</th>\n",
       "      <td>1185868</td>\n",
       "      <td>msmarco_passage_20_598584736</td>\n",
       "      <td>19.330769</td>\n",
       "      <td>1</td>\n",
       "    </tr>\n",
       "    <tr>\n",
       "      <th>27713373</th>\n",
       "      <td>1185865</td>\n",
       "      <td>msmarco_passage_11_701770901</td>\n",
       "      <td>13.365574</td>\n",
       "      <td>1</td>\n",
       "    </tr>\n",
       "    <tr>\n",
       "      <th>27713216</th>\n",
       "      <td>1185862</td>\n",
       "      <td>msmarco_passage_06_840296102</td>\n",
       "      <td>15.564853</td>\n",
       "      <td>1</td>\n",
       "    </tr>\n",
       "    <tr>\n",
       "      <th>27712998</th>\n",
       "      <td>1185855</td>\n",
       "      <td>msmarco_passage_01_180296442</td>\n",
       "      <td>9.139565</td>\n",
       "      <td>1</td>\n",
       "    </tr>\n",
       "    <tr>\n",
       "      <th>27712787</th>\n",
       "      <td>1185849</td>\n",
       "      <td>msmarco_passage_17_166239036</td>\n",
       "      <td>8.547846</td>\n",
       "      <td>1</td>\n",
       "    </tr>\n",
       "    <tr>\n",
       "      <th>...</th>\n",
       "      <td>...</td>\n",
       "      <td>...</td>\n",
       "      <td>...</td>\n",
       "      <td>...</td>\n",
       "    </tr>\n",
       "    <tr>\n",
       "      <th>533</th>\n",
       "      <td>54</td>\n",
       "      <td>msmarco_passage_05_514104820</td>\n",
       "      <td>9.709645</td>\n",
       "      <td>1</td>\n",
       "    </tr>\n",
       "    <tr>\n",
       "      <th>327</th>\n",
       "      <td>31</td>\n",
       "      <td>msmarco_passage_02_6149215</td>\n",
       "      <td>9.243010</td>\n",
       "      <td>1</td>\n",
       "    </tr>\n",
       "    <tr>\n",
       "      <th>164</th>\n",
       "      <td>16</td>\n",
       "      <td>msmarco_passage_32_177724543</td>\n",
       "      <td>11.951515</td>\n",
       "      <td>1</td>\n",
       "    </tr>\n",
       "    <tr>\n",
       "      <th>113</th>\n",
       "      <td>16</td>\n",
       "      <td>msmarco_passage_06_754042363</td>\n",
       "      <td>11.867783</td>\n",
       "      <td>2</td>\n",
       "    </tr>\n",
       "    <tr>\n",
       "      <th>93</th>\n",
       "      <td>5</td>\n",
       "      <td>msmarco_passage_49_25893655</td>\n",
       "      <td>10.000913</td>\n",
       "      <td>1</td>\n",
       "    </tr>\n",
       "  </tbody>\n",
       "</table>\n",
       "<p>255671 rows × 4 columns</p>\n",
       "</div>"
      ],
      "text/plain": [
       "               id                          file      score  rank\n",
       "27713486  1185868  msmarco_passage_20_598584736  19.330769     1\n",
       "27713373  1185865  msmarco_passage_11_701770901  13.365574     1\n",
       "27713216  1185862  msmarco_passage_06_840296102  15.564853     1\n",
       "27712998  1185855  msmarco_passage_01_180296442   9.139565     1\n",
       "27712787  1185849  msmarco_passage_17_166239036   8.547846     1\n",
       "...           ...                           ...        ...   ...\n",
       "533            54  msmarco_passage_05_514104820   9.709645     1\n",
       "327            31    msmarco_passage_02_6149215   9.243010     1\n",
       "164            16  msmarco_passage_32_177724543  11.951515     1\n",
       "113            16  msmarco_passage_06_754042363  11.867783     2\n",
       "93              5   msmarco_passage_49_25893655  10.000913     1\n",
       "\n",
       "[255671 rows x 4 columns]"
      ]
     },
     "execution_count": 29,
     "metadata": {},
     "output_type": "execute_result"
    }
   ],
   "source": [
    "rerank_top100_df['rank'] = rerank_top100_df.groupby('id')['score'].rank(ascending=False).astype(int)\n",
    "np.savetxt(r'./passage_top100_reranking.txt', rerank_top100_df.values, fmt='%s')\n",
    "rerank_top100_df"
   ]
  },
  {
   "cell_type": "code",
   "execution_count": null,
   "id": "483e6504",
   "metadata": {},
   "outputs": [],
   "source": []
  }
 ],
 "metadata": {
  "kernelspec": {
   "display_name": "Python [conda env:keras_env] *",
   "language": "python",
   "name": "conda-env-keras_env-py"
  },
  "language_info": {
   "codemirror_mode": {
    "name": "ipython",
    "version": 3
   },
   "file_extension": ".py",
   "mimetype": "text/x-python",
   "name": "python",
   "nbconvert_exporter": "python",
   "pygments_lexer": "ipython3",
   "version": "3.9.4"
  }
 },
 "nbformat": 4,
 "nbformat_minor": 5
}
